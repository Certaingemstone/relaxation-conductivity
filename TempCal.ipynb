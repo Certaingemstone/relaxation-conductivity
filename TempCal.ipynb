{
 "cells": [
  {
   "cell_type": "code",
   "execution_count": 1,
   "id": "3b4b1f7b",
   "metadata": {},
   "outputs": [],
   "source": [
    "# written by Jade Chongsathapornpong, Jan. 2023\n",
    "# MCSC Climate Scholars Program, Tuller Group, MIT\n",
    "import numpy as np\n",
    "import scipy\n",
    "import pandas as pd\n",
    "import matplotlib.pyplot as plt\n",
    "\n",
    "import os\n",
    "import re"
   ]
  },
  {
   "cell_type": "code",
   "execution_count": 2,
   "id": "c7af2333",
   "metadata": {},
   "outputs": [],
   "source": [
    "def stagecal_furnacesample_Pt_RTD_Jan2023(T_stage) -> float:\n",
    "    \"\"\"Returns a furnace sample temperature from a stage temperature according to the Pt RTD measurements.\"\"\"\n",
    "    return (-4.36189550e-05 * T_stage**2 + 1.12177203*T_stage - 1.41614837e+01)\n",
    "\n",
    "def stagecal_furnacemain_Pt_RTD_Jan2023(T_stage) -> float:\n",
    "    \"\"\"Returns a furnace temperature from a stage temperature according to the Pt RTD measurements.\"\"\"\n",
    "    return (-4.34953904e-05 * T_stage**2 + 1.11859298*T_stage + 4.31394777)"
   ]
  },
  {
   "cell_type": "code",
   "execution_count": 5,
   "id": "75301200",
   "metadata": {},
   "outputs": [
    {
     "name": "stdout",
     "output_type": "stream",
     "text": [
      "Stage temperature reading (deg. C): 200\n",
      "Using furnace sample holder TC (more accurate according to HanGil): 208.4481641\n"
     ]
    }
   ],
   "source": [
    "### USE THIS ###\n",
    "temp = 200\n",
    "print(\"Stage temperature reading (deg. C):\", temp)\n",
    "print(\"Using furnace sample holder TC (more accurate according to HanGil):\", stagecal_furnacesample_Pt_RTD_Jan2023(temp))\n",
    "#print(\"Using furnace main TC:\", stagecal_furnacemain_Pt_RTD_Jan2023(temp))"
   ]
  },
  {
   "cell_type": "markdown",
   "id": "b3d64aaf",
   "metadata": {},
   "source": [
    "# Temperature Calibration with Platinum Wire\n",
    "For more confident measurements, we need to approximate the temperature difference between the stage (thermocouple right by the heating element) and the sample (sitting on the stage, on top of an alumina substrate). This temperature difference arises from: the stage being up to 550C, the air coming in being at RT or below, and the stage housing being watercooled to <50C.\n",
    "\n",
    "To do this, we'll use an old sample with long, thin platinum wire, laid on top of an analogue to our samples. Its resistance should change roughly linearly with temperature over this range. We use relatively thick leads to connect it to our test equipment, whose resistance is negligible.\n",
    "\n",
    "The wire sample is heated in a furnace of known calibration, with thermocouple attached to the sample (probably accurate within 10C), and its resistance measured at different temperatures. We use frequency sweeps, and use the $Z'$ intercept for the resistance. \n",
    "\n",
    "This process is repeated, but with the sample in the stage, as we would load a normal sample. Watercooling is turned on, and a mix of 0.9 N2 : 0.1 O2 gas is flowed at the same rate (150sccm) as would be done during a normal measurement. This should give us an okay reproduction of the temperature gradient we want to know. After each temperature step is done according to the stage, the sample is allowed to equilibrate for 2 minutes. Over the course of the stage calibration, the watercooling loop changed from 23C to 27C, which is minimal.\n",
    "\n",
    "Here's the data:"
   ]
  },
  {
   "cell_type": "code",
   "execution_count": 3,
   "id": "29610847",
   "metadata": {},
   "outputs": [
    {
     "name": "stdout",
     "output_type": "stream",
     "text": [
      "['Furnace080C_sample070C.csv', 'Furnace223C_sample200C.csv', 'Furnace273C_sample250C.csv', 'Furnace320C_sample300C.csv', 'Furnace369C_sample350C.csv', 'Furnace417C_sample400C.csv', 'Furnace442C_sample425C.csv', 'Furnace467C_sample450C.csv', 'Furnace491C_sample475C.csv', 'Furnace516C_sample500C.csv', 'Furnace541C_sample525C.csv', 'Furnace566C_sample550C.csv', 'Furnace600C_sample584C.csv', 'Furnace616C_sample600C.csv']\n",
      "[ 70 200 250 300 350 400 425 450 475 500 525 550 584 600]\n",
      "[ 80 223 273 320 369 417 442 467 491 516 541 566 600 616]\n",
      "[100 150 200 250 300 350 400 425 450 475 500 525 550 575]\n"
     ]
    }
   ],
   "source": [
    "def filename_to_temperature(filename: str) -> int:\n",
    "    \"\"\"Given a filename, returns an integer, e.g. \"furnace575C\" -> 575 (!assumes no other numbers!)\"\"\"\n",
    "    non_decimal = re.compile(r'[^\\d]+') # gets the not-decimals\n",
    "    return int(non_decimal.sub('', filename)) # replace the not-decimals with empty\n",
    "\n",
    "# load furnace frequency sweep data and get temperature\n",
    "root_furnace = r\"C:\\Users\\jade2\\Dropbox (Personal)\\Research\\MetalOxides\\Analyses\\tempcal\\furnace\"\n",
    "furnace_files = os.listdir(root_furnace)\n",
    "furnace_paths = [os.path.join(root_furnace, filename) for filename in furnace_files]\n",
    "T_furnace = np.array([filename_to_temperature(fn) % 1000 for fn in furnace_files])\n",
    "# mod1000 in prev line is to ignore the furnace temperature (filename is like Furnace624_Sample600)\n",
    "T_furnacemain = np.array([filename_to_temperature(fn) // 1000 for fn in furnace_files])\n",
    "# now ignore the sample temperature\n",
    "\n",
    "\n",
    "# load stage \"...\"\n",
    "root_stage = r\"C:\\Users\\jade2\\Dropbox (Personal)\\Research\\MetalOxides\\Analyses\\tempcal\\stage\"\n",
    "stage_files = os.listdir(root_stage)\n",
    "stage_paths = [os.path.join(root_stage, filename) for filename in stage_files]\n",
    "T_stage = np.array([filename_to_temperature(fn) for fn in stage_files])\n",
    "\n",
    "print(furnace_files)\n",
    "print(T_furnace)\n",
    "print(T_furnacemain)\n",
    "print(T_stage)"
   ]
  },
  {
   "cell_type": "markdown",
   "id": "d6147c3a",
   "metadata": {},
   "source": [
    "If we look at the data on the XM studio MTS software, it seems reasonable that we choose to average the measurements under 400Hz."
   ]
  },
  {
   "cell_type": "code",
   "execution_count": 4,
   "id": "15667dd9",
   "metadata": {
    "scrolled": true
   },
   "outputs": [
    {
     "name": "stdout",
     "output_type": "stream",
     "text": [
      "Index(['Time (s)', ' Frequency (Hz)', ' Z' (Ohm)', ' Z'' (Ohm)'], dtype='object')\n"
     ]
    },
    {
     "data": {
      "text/html": [
       "<div>\n",
       "<style scoped>\n",
       "    .dataframe tbody tr th:only-of-type {\n",
       "        vertical-align: middle;\n",
       "    }\n",
       "\n",
       "    .dataframe tbody tr th {\n",
       "        vertical-align: top;\n",
       "    }\n",
       "\n",
       "    .dataframe thead th {\n",
       "        text-align: right;\n",
       "    }\n",
       "</style>\n",
       "<table border=\"1\" class=\"dataframe\">\n",
       "  <thead>\n",
       "    <tr style=\"text-align: right;\">\n",
       "      <th></th>\n",
       "      <th>Time (s)</th>\n",
       "      <th>Frequency (Hz)</th>\n",
       "      <th>Z' (Ohm)</th>\n",
       "      <th>Z'' (Ohm)</th>\n",
       "    </tr>\n",
       "  </thead>\n",
       "  <tbody>\n",
       "    <tr>\n",
       "      <th>0</th>\n",
       "      <td>5</td>\n",
       "      <td>10000.000000</td>\n",
       "      <td>1584.003</td>\n",
       "      <td>-9.058937</td>\n",
       "    </tr>\n",
       "    <tr>\n",
       "      <th>1</th>\n",
       "      <td>6</td>\n",
       "      <td>6309.574000</td>\n",
       "      <td>1584.026</td>\n",
       "      <td>-5.916719</td>\n",
       "    </tr>\n",
       "    <tr>\n",
       "      <th>2</th>\n",
       "      <td>7</td>\n",
       "      <td>3981.072000</td>\n",
       "      <td>1584.500</td>\n",
       "      <td>-3.556913</td>\n",
       "    </tr>\n",
       "    <tr>\n",
       "      <th>3</th>\n",
       "      <td>8</td>\n",
       "      <td>2511.887000</td>\n",
       "      <td>1584.667</td>\n",
       "      <td>-2.299849</td>\n",
       "    </tr>\n",
       "    <tr>\n",
       "      <th>4</th>\n",
       "      <td>9</td>\n",
       "      <td>1584.893000</td>\n",
       "      <td>1584.570</td>\n",
       "      <td>-1.171133</td>\n",
       "    </tr>\n",
       "    <tr>\n",
       "      <th>5</th>\n",
       "      <td>10</td>\n",
       "      <td>1000.000000</td>\n",
       "      <td>1584.590</td>\n",
       "      <td>1.381915</td>\n",
       "    </tr>\n",
       "    <tr>\n",
       "      <th>6</th>\n",
       "      <td>11</td>\n",
       "      <td>630.957500</td>\n",
       "      <td>1582.831</td>\n",
       "      <td>1.712678</td>\n",
       "    </tr>\n",
       "    <tr>\n",
       "      <th>7</th>\n",
       "      <td>12</td>\n",
       "      <td>398.107300</td>\n",
       "      <td>1580.917</td>\n",
       "      <td>1.169016</td>\n",
       "    </tr>\n",
       "    <tr>\n",
       "      <th>8</th>\n",
       "      <td>13</td>\n",
       "      <td>251.188700</td>\n",
       "      <td>1580.948</td>\n",
       "      <td>0.208037</td>\n",
       "    </tr>\n",
       "    <tr>\n",
       "      <th>9</th>\n",
       "      <td>14</td>\n",
       "      <td>158.489400</td>\n",
       "      <td>1580.793</td>\n",
       "      <td>0.091068</td>\n",
       "    </tr>\n",
       "    <tr>\n",
       "      <th>10</th>\n",
       "      <td>15</td>\n",
       "      <td>100.000000</td>\n",
       "      <td>1580.187</td>\n",
       "      <td>-0.258722</td>\n",
       "    </tr>\n",
       "    <tr>\n",
       "      <th>11</th>\n",
       "      <td>16</td>\n",
       "      <td>63.095760</td>\n",
       "      <td>1580.767</td>\n",
       "      <td>-0.066550</td>\n",
       "    </tr>\n",
       "    <tr>\n",
       "      <th>12</th>\n",
       "      <td>21</td>\n",
       "      <td>10000.000000</td>\n",
       "      <td>1583.948</td>\n",
       "      <td>-9.014190</td>\n",
       "    </tr>\n",
       "    <tr>\n",
       "      <th>13</th>\n",
       "      <td>22</td>\n",
       "      <td>6309.574000</td>\n",
       "      <td>1583.977</td>\n",
       "      <td>-5.936000</td>\n",
       "    </tr>\n",
       "    <tr>\n",
       "      <th>14</th>\n",
       "      <td>23</td>\n",
       "      <td>3981.072000</td>\n",
       "      <td>1584.525</td>\n",
       "      <td>-3.606052</td>\n",
       "    </tr>\n",
       "    <tr>\n",
       "      <th>15</th>\n",
       "      <td>24</td>\n",
       "      <td>2511.887000</td>\n",
       "      <td>1584.648</td>\n",
       "      <td>-2.303029</td>\n",
       "    </tr>\n",
       "    <tr>\n",
       "      <th>16</th>\n",
       "      <td>25</td>\n",
       "      <td>1584.893000</td>\n",
       "      <td>1584.503</td>\n",
       "      <td>-1.165224</td>\n",
       "    </tr>\n",
       "    <tr>\n",
       "      <th>17</th>\n",
       "      <td>26</td>\n",
       "      <td>1000.000000</td>\n",
       "      <td>1584.506</td>\n",
       "      <td>1.305770</td>\n",
       "    </tr>\n",
       "    <tr>\n",
       "      <th>18</th>\n",
       "      <td>27</td>\n",
       "      <td>630.957500</td>\n",
       "      <td>1582.697</td>\n",
       "      <td>1.694103</td>\n",
       "    </tr>\n",
       "    <tr>\n",
       "      <th>19</th>\n",
       "      <td>28</td>\n",
       "      <td>398.107300</td>\n",
       "      <td>1580.854</td>\n",
       "      <td>1.121843</td>\n",
       "    </tr>\n",
       "    <tr>\n",
       "      <th>20</th>\n",
       "      <td>29</td>\n",
       "      <td>251.188700</td>\n",
       "      <td>1580.924</td>\n",
       "      <td>0.259182</td>\n",
       "    </tr>\n",
       "    <tr>\n",
       "      <th>21</th>\n",
       "      <td>30</td>\n",
       "      <td>158.489400</td>\n",
       "      <td>1580.621</td>\n",
       "      <td>0.152469</td>\n",
       "    </tr>\n",
       "    <tr>\n",
       "      <th>22</th>\n",
       "      <td>32</td>\n",
       "      <td>100.000000</td>\n",
       "      <td>1580.181</td>\n",
       "      <td>-0.229993</td>\n",
       "    </tr>\n",
       "    <tr>\n",
       "      <th>23</th>\n",
       "      <td>33</td>\n",
       "      <td>63.095760</td>\n",
       "      <td>1580.701</td>\n",
       "      <td>-0.101223</td>\n",
       "    </tr>\n",
       "    <tr>\n",
       "      <th>24</th>\n",
       "      <td>34</td>\n",
       "      <td>39.810730</td>\n",
       "      <td>1581.177</td>\n",
       "      <td>0.002019</td>\n",
       "    </tr>\n",
       "    <tr>\n",
       "      <th>25</th>\n",
       "      <td>35</td>\n",
       "      <td>25.118880</td>\n",
       "      <td>1580.812</td>\n",
       "      <td>0.189061</td>\n",
       "    </tr>\n",
       "    <tr>\n",
       "      <th>26</th>\n",
       "      <td>36</td>\n",
       "      <td>15.848940</td>\n",
       "      <td>1580.200</td>\n",
       "      <td>-0.241284</td>\n",
       "    </tr>\n",
       "    <tr>\n",
       "      <th>27</th>\n",
       "      <td>37</td>\n",
       "      <td>10.000010</td>\n",
       "      <td>1580.138</td>\n",
       "      <td>-0.295834</td>\n",
       "    </tr>\n",
       "    <tr>\n",
       "      <th>28</th>\n",
       "      <td>38</td>\n",
       "      <td>6.309577</td>\n",
       "      <td>1580.092</td>\n",
       "      <td>-0.199226</td>\n",
       "    </tr>\n",
       "    <tr>\n",
       "      <th>29</th>\n",
       "      <td>39</td>\n",
       "      <td>3.981074</td>\n",
       "      <td>1579.768</td>\n",
       "      <td>-0.053327</td>\n",
       "    </tr>\n",
       "    <tr>\n",
       "      <th>30</th>\n",
       "      <td>41</td>\n",
       "      <td>2.511888</td>\n",
       "      <td>1580.110</td>\n",
       "      <td>-0.040977</td>\n",
       "    </tr>\n",
       "  </tbody>\n",
       "</table>\n",
       "</div>"
      ],
      "text/plain": [
       "    Time (s)   Frequency (Hz)   Z' (Ohm)   Z'' (Ohm)\n",
       "0          5     10000.000000   1584.003   -9.058937\n",
       "1          6      6309.574000   1584.026   -5.916719\n",
       "2          7      3981.072000   1584.500   -3.556913\n",
       "3          8      2511.887000   1584.667   -2.299849\n",
       "4          9      1584.893000   1584.570   -1.171133\n",
       "5         10      1000.000000   1584.590    1.381915\n",
       "6         11       630.957500   1582.831    1.712678\n",
       "7         12       398.107300   1580.917    1.169016\n",
       "8         13       251.188700   1580.948    0.208037\n",
       "9         14       158.489400   1580.793    0.091068\n",
       "10        15       100.000000   1580.187   -0.258722\n",
       "11        16        63.095760   1580.767   -0.066550\n",
       "12        21     10000.000000   1583.948   -9.014190\n",
       "13        22      6309.574000   1583.977   -5.936000\n",
       "14        23      3981.072000   1584.525   -3.606052\n",
       "15        24      2511.887000   1584.648   -2.303029\n",
       "16        25      1584.893000   1584.503   -1.165224\n",
       "17        26      1000.000000   1584.506    1.305770\n",
       "18        27       630.957500   1582.697    1.694103\n",
       "19        28       398.107300   1580.854    1.121843\n",
       "20        29       251.188700   1580.924    0.259182\n",
       "21        30       158.489400   1580.621    0.152469\n",
       "22        32       100.000000   1580.181   -0.229993\n",
       "23        33        63.095760   1580.701   -0.101223\n",
       "24        34        39.810730   1581.177    0.002019\n",
       "25        35        25.118880   1580.812    0.189061\n",
       "26        36        15.848940   1580.200   -0.241284\n",
       "27        37        10.000010   1580.138   -0.295834\n",
       "28        38         6.309577   1580.092   -0.199226\n",
       "29        39         3.981074   1579.768   -0.053327\n",
       "30        41         2.511888   1580.110   -0.040977"
      ]
     },
     "execution_count": 4,
     "metadata": {},
     "output_type": "execute_result"
    }
   ],
   "source": [
    "df = pd.read_csv(furnace_paths[0], skiprows=3)\n",
    "print(df.keys())\n",
    "df"
   ]
  },
  {
   "cell_type": "code",
   "execution_count": 4,
   "id": "fbf10434",
   "metadata": {},
   "outputs": [],
   "source": [
    "def filter_and_average(impedance_filename, lowpass_cutoff):\n",
    "    \"\"\"For file formatted as above, selects measurements with frequency below lowpass_cutoff,\n",
    "        and averages Z' (resistance)\"\"\"\n",
    "    df = pd.read_csv(impedance_filename, skiprows=3)\n",
    "    filtered = df.loc[df[' Frequency (Hz)'] < lowpass_cutoff]\n",
    "    z_primes = filtered[\" Z' (Ohm)\"].values\n",
    "    return np.mean(z_primes)"
   ]
  },
  {
   "cell_type": "code",
   "execution_count": 5,
   "id": "b47e6cb5",
   "metadata": {},
   "outputs": [],
   "source": [
    "cutoff = 400 # Hz\n",
    "R_furnace = np.array([filter_and_average(file, cutoff) for file in furnace_paths])\n",
    "R_stage = np.array([filter_and_average(file, cutoff) for file in stage_paths])"
   ]
  },
  {
   "cell_type": "code",
   "execution_count": 10,
   "id": "65464a27",
   "metadata": {},
   "outputs": [
    {
     "name": "stdout",
     "output_type": "stream",
     "text": [
      "Sample Holder TC:\n",
      "Fit r-square: 0.9985315715159774\n",
      "Fit slope (C / Ohm): 0.25095560303923725\n",
      "Fit slope uncertainty (C / Ohm): 0.0027781249392327535\n",
      "0 Ohm Intercept (C): -339.11237012677674\n"
     ]
    },
    {
     "data": {
      "image/png": "[encoded data removed]",
      "text/plain": [
       "<Figure size 720x480 with 1 Axes>"
      ]
     },
     "metadata": {
      "needs_background": "light"
     },
     "output_type": "display_data"
    }
   ],
   "source": [
    "res = scipy.stats.linregress(R_furnace, T_furnace)\n",
    "res2 = scipy.stats.linregress(R_furnace, T_furnacemain)\n",
    "print(\"Sample Holder TC:\")\n",
    "print(\"Fit r-square:\", res.rvalue**2)\n",
    "print(\"Fit slope (C / Ohm):\", res.slope)\n",
    "print(\"Fit slope uncertainty (C / Ohm):\", res.stderr)\n",
    "print(\"0 Ohm Intercept (C):\", res.intercept)\n",
    "# print(\"\\nFurnace TC:\")\n",
    "# print(\"Fit r-square:\", res2.rvalue**2)\n",
    "# print(\"Fit slope (C / Ohm):\", res2.slope)\n",
    "# print(\"Fit slope uncertainty (C / Ohm):\", res2.stderr)\n",
    "# print(\"0 Ohm Intercept (C):\", res2.intercept)\n",
    "\n",
    "plt.figure(figsize=(6,4), dpi=120)\n",
    "plt.plot(R_furnace, T_furnace, 'ro', label='furnace data (sample holder)')\n",
    "plt.plot(R_furnace, res.intercept + res.slope * R_furnace, 'r', label='fitted line (sample holder)')\n",
    "#plt.plot(R_furnace, T_furnacemain, 'go', label='furnace data (main TC)')\n",
    "#plt.plot(R_furnace, res2.intercept + res2.slope * R_furnace, 'g', label='fitted line (furnace TC)')\n",
    "plt.plot(R_stage, T_stage, 'o', label='stage data')\n",
    "plt.legend()\n",
    "plt.ylabel(\"T nominal (C)\")\n",
    "plt.xlabel(\"R (Ohm)\")\n",
    "plt.title(\"Pt wire Temperature in furnace vs. Resistance\")\n",
    "plt.show()"
   ]
  },
  {
   "cell_type": "markdown",
   "id": "c39a659c",
   "metadata": {},
   "source": [
    "Now, we have a relationship between temperature and resistance for the furnace (which we assume is correct). It appears for a given nominal temperature, the stage sample has a higher resistance (higher true temperature). It's possible the high temperature stage datapoints (550 and 575C nominal) did not have enough time to stabilize (550 was the first point I took, and was taken right after the ramp from 0C, and 575 was done right after this). For the purposes of the calibration, I think we're interested in temperatures below 550C (since some of our samples are too conductive to get nice impedance spectra at these temperatures anyway). Therefore, for the next steps I will reject these two data points, but keep in mind that they exist!\n",
    "\n",
    "It remains to map stage temperatures to furnace temperatures using this relationship. For each resistance measured on the stage at a given temperature, we'll calculate the corresponding furnace temperature. Then, plot the furnace (\"true\") temperature vs. the stage temperature. We'll then fit a relation to get a furnace temperature from a stage temperature."
   ]
  },
  {
   "cell_type": "code",
   "execution_count": 13,
   "id": "1eceea34",
   "metadata": {},
   "outputs": [
    {
     "name": "stdout",
     "output_type": "stream",
     "text": [
      "[ 99.66633193 154.06879776 206.51818627 257.8568163  318.43308946\n",
      " 374.72185124 430.32201278 457.58469029 482.81999324 508.5249563\n",
      " 535.10721883 560.13101743]\n",
      "Quadratic ax2 + bx + c parameters: [-4.36189550e-05  1.12177203e+00 -1.41614837e+01]\n"
     ]
    },
    {
     "data": {
      "text/plain": [
       "Text(0, 0.5, 'Corresponded Furnace Temperature (C)')"
      ]
     },
     "execution_count": 13,
     "metadata": {},
     "output_type": "execute_result"
    },
    {
     "data": {
      "image/png": "[encoded data removed]",
      "text/plain": [
       "<Figure size 720x480 with 1 Axes>"
      ]
     },
     "metadata": {
      "needs_background": "light"
     },
     "output_type": "display_data"
    }
   ],
   "source": [
    "def quadratic_model(x, a, b, c):\n",
    "    return a*x**2 + b*x + c\n",
    "\n",
    "plt.figure(figsize=(6,4), dpi=120)\n",
    "T_furnace_from_R_stage = (res.intercept + res.slope * R_stage)[:-2]\n",
    "# Uncomment to use furnace main TC temp (Han Gil says this is inaccurate) instead of sample holder\n",
    "#T_furnace_from_R_stage = (res2.intercept + res2.slope * R_stage)[:-2]\n",
    "print(T_furnace_from_R_stage)\n",
    "\n",
    "param_opt, param_covariance = scipy.optimize.curve_fit(quadratic_model, T_stage[:-2], T_furnace_from_R_stage, \n",
    "                                                        bounds = ([-1, -2, -30], [1, 2, 30]))\n",
    "print(\"Quadratic ax2 + bx + c parameters:\", param_opt)\n",
    "plt.scatter(T_stage[:-2], T_furnace_from_R_stage, label='correspondences')\n",
    "plt.plot(T_stage[:-2], quadratic_model(T_stage[:-2], *param_opt), label='quadratic fit')\n",
    "plt.xlabel(\"Stage Temperature (C)\")\n",
    "plt.ylabel(\"Corresponded Furnace Temperature (C)\")"
   ]
  },
  {
   "cell_type": "markdown",
   "id": "789d8430",
   "metadata": {},
   "source": [
    "### Calibration result\n",
    "Rejecting the last two data points of the stage, we have a significantly better fit. We may want to revisit the 550 and 575C points in the future and be more careful about letting the temperature converge.\n",
    "\n",
    "Now we can use this to convert from stage temperature to \"real\" temperature (what it would be in the furnace), assuming the sample is of similar geometry and composition to this Pt wire one. **TODO:** measure the dimensions of the Pt wire sample\n",
    "\n",
    "For convenience I moved this to the top of the notebook."
   ]
  }
 ],
 "metadata": {
  "kernelspec": {
   "display_name": "Python 3 (ipykernel)",
   "language": "python",
   "name": "python3"
  },
  "language_info": {
   "codemirror_mode": {
    "name": "ipython",
    "version": 3
   },
   "file_extension": ".py",
   "mimetype": "text/x-python",
   "name": "python",
   "nbconvert_exporter": "python",
   "pygments_lexer": "ipython3",
   "version": "3.9.15"
  }
 },
 "nbformat": 4,
 "nbformat_minor": 5
}
