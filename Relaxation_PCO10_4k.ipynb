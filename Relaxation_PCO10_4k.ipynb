{
 "cells": [
  {
   "cell_type": "code",
   "execution_count": 1,
   "id": "f1d64112",
   "metadata": {
    "id": "f1d64112"
   },
   "outputs": [],
   "source": [
    "# written by Jade Chongsathapornpong, Jan. 2023\n",
    "# MCSC Climate Scholars Program, Tuller Group, MIT\n",
    "import numpy as np\n",
    "from scipy.special import erf, erfc\n",
    "import pandas as pd\n",
    "import matplotlib.pyplot as plt\n",
    "import lmfit\n",
    "\n",
    "import os"
   ]
  },
  {
   "cell_type": "markdown",
   "id": "087d0adc",
   "metadata": {
    "id": "087d0adc"
   },
   "source": [
    "# Fitting conductivity relaxation\n",
    "When oxygen activity is changed, our material is oxidized or reduced, affecting the defect equilibrium and therefore the conductivity of the sample. On a step change in oxygen activity, this process looks like an exponential relaxation toward the new equilibrium. By fitting this exponential relaxation, we can estimate the rate of oxygen exchange.\n",
    "\n",
    "With the sample's resistivity normalized within 0 and 1, we have\n",
    "\\begin{equation}\n",
    "    g(t) = \\frac{\\rho(t)-\\rho_0}{\\rho_{t\\to\\infty} - \\rho_0} = 1 - \\exp\\left(\\frac{-k_{c}At}{V}\\right) = 1 - \\exp\\left(\\frac{-k_{c}t}{h}\\right)\n",
    "\\end{equation}\n",
    "where $k_c$ is the rate constant for exchange, and $h$ is the thickness of the film (the last equality comes from our thin-film geometry)."
   ]
  },
  {
   "cell_type": "code",
   "execution_count": 17,
   "id": "99189dea",
   "metadata": {
    "id": "99189dea"
   },
   "outputs": [],
   "source": [
    "#filenames\n",
    "root = r\"C:\\Users\\jade2\\Documents\\MetalOxides\\PCO10_4k\\relax_0.1-0.2\"\n",
    "fn550 = os.path.join(root, \"550C_0.1-0.2_150sccm.csv\")\n",
    "fn525 = os.path.join(root, \"525C_0.1-0.2_150sccm.csv\")\n",
    "fn500 = os.path.join(root, \"500C_0.1-0.2_150sccm.csv\")\n",
    "fn500_2 = os.path.join(root, \"500C_0.1-0.2_day2_150sccm.csv\")\n",
    "fn475 = os.path.join(root, \"475C_0.1-0.2_day2_150sccm.csv\")"
   ]
  },
  {
   "cell_type": "code",
   "execution_count": 18,
   "id": "62492cdc",
   "metadata": {
    "id": "62492cdc",
    "outputId": "f06a1ac5-9a16-4d22-fe63-708ec597f1fd"
   },
   "outputs": [
    {
     "data": {
      "text/html": [
       "<div>\n",
       "<style scoped>\n",
       "    .dataframe tbody tr th:only-of-type {\n",
       "        vertical-align: middle;\n",
       "    }\n",
       "\n",
       "    .dataframe tbody tr th {\n",
       "        vertical-align: top;\n",
       "    }\n",
       "\n",
       "    .dataframe thead th {\n",
       "        text-align: right;\n",
       "    }\n",
       "</style>\n",
       "<table border=\"1\" class=\"dataframe\">\n",
       "  <thead>\n",
       "    <tr style=\"text-align: right;\">\n",
       "      <th></th>\n",
       "      <th></th>\n",
       "      <th>Experiment:</th>\n",
       "      <th>Single frequency relaxation 0.1to0.2 200Hz</th>\n",
       "    </tr>\n",
       "  </thead>\n",
       "  <tbody>\n",
       "    <tr>\n",
       "      <th>Start date:</th>\n",
       "      <th>Thursday</th>\n",
       "      <td>November 17</td>\n",
       "      <td>2022.0</td>\n",
       "    </tr>\n",
       "    <tr>\n",
       "      <th>Start time:</th>\n",
       "      <th>5:11:02 PM -05:00</th>\n",
       "      <td>NaN</td>\n",
       "      <td>NaN</td>\n",
       "    </tr>\n",
       "    <tr>\n",
       "      <th>Time (s)</th>\n",
       "      <th>Frequency (Hz)</th>\n",
       "      <td>Z' (Ohm)</td>\n",
       "      <td>NaN</td>\n",
       "    </tr>\n",
       "    <tr>\n",
       "      <th>2</th>\n",
       "      <th>200</th>\n",
       "      <td>382794.3</td>\n",
       "      <td>NaN</td>\n",
       "    </tr>\n",
       "    <tr>\n",
       "      <th>4</th>\n",
       "      <th>200</th>\n",
       "      <td>383032.3</td>\n",
       "      <td>NaN</td>\n",
       "    </tr>\n",
       "    <tr>\n",
       "      <th>...</th>\n",
       "      <th>...</th>\n",
       "      <td>...</td>\n",
       "      <td>...</td>\n",
       "    </tr>\n",
       "    <tr>\n",
       "      <th>1394</th>\n",
       "      <th>200</th>\n",
       "      <td>384800.4</td>\n",
       "      <td>NaN</td>\n",
       "    </tr>\n",
       "    <tr>\n",
       "      <th>1396</th>\n",
       "      <th>200</th>\n",
       "      <td>384842.4</td>\n",
       "      <td>NaN</td>\n",
       "    </tr>\n",
       "    <tr>\n",
       "      <th>1398</th>\n",
       "      <th>200</th>\n",
       "      <td>384710</td>\n",
       "      <td>NaN</td>\n",
       "    </tr>\n",
       "    <tr>\n",
       "      <th>1400</th>\n",
       "      <th>200</th>\n",
       "      <td>384779.7</td>\n",
       "      <td>NaN</td>\n",
       "    </tr>\n",
       "    <tr>\n",
       "      <th>1402</th>\n",
       "      <th>200</th>\n",
       "      <td>384844.4</td>\n",
       "      <td>NaN</td>\n",
       "    </tr>\n",
       "  </tbody>\n",
       "</table>\n",
       "<p>704 rows × 2 columns</p>\n",
       "</div>"
      ],
      "text/plain": [
       "                                 Experiment:  \\\n",
       "Start date:  Thursday            November 17   \n",
       "Start time:  5:11:02 PM -05:00           NaN   \n",
       "Time (s)     Frequency (Hz)         Z' (Ohm)   \n",
       "2            200                    382794.3   \n",
       "4            200                    383032.3   \n",
       "...                                      ...   \n",
       "1394         200                    384800.4   \n",
       "1396         200                    384842.4   \n",
       "1398         200                      384710   \n",
       "1400         200                    384779.7   \n",
       "1402         200                    384844.4   \n",
       "\n",
       "                                 Single frequency relaxation 0.1to0.2 200Hz  \n",
       "Start date:  Thursday                                                2022.0  \n",
       "Start time:  5:11:02 PM -05:00                                          NaN  \n",
       "Time (s)     Frequency (Hz)                                             NaN  \n",
       "2            200                                                        NaN  \n",
       "4            200                                                        NaN  \n",
       "...                                                                     ...  \n",
       "1394         200                                                        NaN  \n",
       "1396         200                                                        NaN  \n",
       "1398         200                                                        NaN  \n",
       "1400         200                                                        NaN  \n",
       "1402         200                                                        NaN  \n",
       "\n",
       "[704 rows x 2 columns]"
      ]
     },
     "execution_count": 18,
     "metadata": {},
     "output_type": "execute_result"
    }
   ],
   "source": [
    "# User start here\n",
    "current_datafile = fn550\n",
    "df = pd.read_csv(current_datafile)\n",
    "df"
   ]
  },
  {
   "cell_type": "code",
   "execution_count": 19,
   "id": "103ea8ed",
   "metadata": {
    "id": "103ea8ed",
    "outputId": "4328c5bb-62d2-426c-fd67-e53e57e0b9bd"
   },
   "outputs": [
    {
     "name": "stdout",
     "output_type": "stream",
     "text": [
      "Index(['Time (s)', ' Frequency (Hz)', ' Z' (Ohm)'], dtype='object')\n"
     ]
    }
   ],
   "source": [
    "df = pd.read_csv(current_datafile, skiprows=3)\n",
    "print(df.keys())"
   ]
  },
  {
   "cell_type": "markdown",
   "id": "f2b2a5ad",
   "metadata": {
    "id": "f2b2a5ad"
   },
   "source": [
    "Now to normalize, we'll pin the minimum and maximum to 0 and 1."
   ]
  },
  {
   "cell_type": "code",
   "execution_count": 20,
   "id": "ff450593",
   "metadata": {
    "id": "ff450593",
    "outputId": "4b4e9121-7883-4488-d39f-aca68713ea30"
   },
   "outputs": [
    {
     "data": {
      "image/png": "[encoded data removed]",
      "text/plain": [
       "<Figure size 432x288 with 1 Axes>"
      ]
     },
     "metadata": {
      "needs_background": "light"
     },
     "output_type": "display_data"
    }
   ],
   "source": [
    "df[\"Zzero\"] = (df[\" Z' (Ohm)\"] - np.min(df[\" Z' (Ohm)\"]))\n",
    "df[\"Znorm\"] = df[\"Zzero\"] / np.max(df[\"Zzero\"])\n",
    "plt.plot(df['Time (s)'], df['Znorm'])\n",
    "plt.ylabel(\"g(t)\")\n",
    "plt.xlabel(\"t\")\n",
    "plt.show()"
   ]
  },
  {
   "cell_type": "markdown",
   "id": "8b090468",
   "metadata": {
    "id": "8b090468"
   },
   "source": [
    "Good! Now I'd like to make a parametric model for the relaxation curve. Basically,\n",
    "\\begin{equation}\n",
    "    g(t) = \\begin{cases}\n",
    "            0 & t < t_0\\\\\n",
    "            1 - \\exp[-r_o(t-t_0)] & t_0 < t < t_1\\\\\n",
    "            \\exp[-r_r(t-t_1)] & t_1 < t\n",
    "        \\end{cases}\n",
    "\\end{equation}\n",
    "where $r = \\frac{k_{\\rm{chem}}}{h}$ and we will allow $t_0$, $t_1$, an oxidation time constant $r_o$, and reduction time constant $r_r$ to be our free parameters. An additional linear base curve is added as well, to allow better fit to the long relaxations where we observed drift. To smooth out the transitions so the optimizer runs better, I will use an `erf` and `erfc` to interpolate between the steps."
   ]
  },
  {
   "cell_type": "code",
   "execution_count": 24,
   "id": "f655a2f1",
   "metadata": {
    "id": "f655a2f1"
   },
   "outputs": [],
   "source": [
    "# Hand-tune these parameters to be vaguely like the real data, otherwise the optimizer will fail (because we have tons of params)\n",
    "t_step1 = 200\n",
    "t_step2 = 800\n",
    "r0_guess = 0.005\n",
    "r1_guess = 0.005\n",
    "exp_lim1_guess = 0.7\n",
    "exp_lim2_guess = 0.1\n",
    "driftslope_guess = 0\n",
    "\n",
    "dx = 0.1 # if data is longer, this should be set higher (e.g. 1000 timesteps, dx=0.1 whereas with 20000 timesteps, try dx=100)\n",
    "# or else the function is kinda ill-conditioned and the optimizer will fail.\n",
    "\n",
    "drift = False # if there is drift, have this True. Else, set it to False and set driftslope_guess to 0 \n",
    "# or else the optimizer will fail. \n",
    "\n",
    "def relaxation_curve(x, x0, x1, r0, r1, exp_lim1, exp_lim2, driftslope):\n",
    "    '''\n",
    "    x0 : first PO2 step time\n",
    "    x1 : second PO2 step time\n",
    "    r0 : first exponential time constant\n",
    "    r1 : second exponential time constant\n",
    "    exp_lim1 : limiting value of first relaxation without drift\n",
    "    exp_lim2 : limiting value of second relaxation without drift\n",
    "    driftslope : slope of underlying drift\n",
    "    '''\n",
    "    # weighting factors\n",
    "    # weight0 = 1-(erf((x-x0)/dx) + 1)/2.0\n",
    "    weight2 = 1-(erfc((x-x1)/dx))/2.0\n",
    "    weight1 = (erf((x-x0)/dx) + 1 + erfc((x-x1)/dx)) / 2 - 1\n",
    "    # functions\n",
    "    return weight1 * (exp_lim1-np.exp(-r0*(x-x0))) + weight2 * (np.exp(-r1*(x-x1)) + exp_lim2) + x * driftslope\n",
    "\n",
    "curve_model = lmfit.Model(relaxation_curve, independent_vars=['x'])\n",
    "# Now we can define our free parameters and initialize them.\n",
    "params = lmfit.Parameters()\n",
    "params.add('x0', value=t_step1, min=0)\n",
    "params.add('x1', value=t_step2, min=0)\n",
    "params.add('r0', value=r0_guess, min=0, max=2)\n",
    "params.add('r1', value=r1_guess, min=0, max=2)\n",
    "params.add('exp_lim1', value=exp_lim1_guess)\n",
    "params.add('exp_lim2', value=exp_lim2_guess)\n",
    "params.add('driftslope', value=driftslope_guess, vary=drift)"
   ]
  },
  {
   "cell_type": "code",
   "execution_count": 25,
   "id": "978adbce",
   "metadata": {
    "id": "978adbce",
    "outputId": "dec9fa34-cc1f-439e-9fbd-d9df7939bb73"
   },
   "outputs": [
    {
     "data": {
      "image/png": "[encoded data removed]",
      "text/plain": [
       "<Figure size 432x288 with 1 Axes>"
      ]
     },
     "metadata": {
      "needs_background": "light"
     },
     "output_type": "display_data"
    }
   ],
   "source": [
    "# to hand-tune the initial parameters, mess with the numbers in the previous cell, then re-run to plot here.\n",
    "x_eval = np.linspace(0, 1000, 1001)\n",
    "y_eval = curve_model.eval(params, x=x_eval)\n",
    "plt.plot(x_eval, y_eval)\n",
    "plt.show()"
   ]
  },
  {
   "cell_type": "code",
   "execution_count": 26,
   "id": "88a8d4bd",
   "metadata": {
    "id": "88a8d4bd",
    "outputId": "8e107e3a-6234-47c8-8c21-99b3d769f5ae"
   },
   "outputs": [
    {
     "name": "stdout",
     "output_type": "stream",
     "text": [
      "[[Model]]\n",
      "    Model(relaxation_curve)\n",
      "[[Fit Statistics]]\n",
      "    # fitting method   = leastsq\n",
      "    # function evals   = 92\n",
      "    # data points      = 701\n",
      "    # variables        = 6\n",
      "    chi-square         = 0.02006055\n",
      "    reduced chi-square = 2.8864e-05\n",
      "    Akaike info crit   = -7321.51701\n",
      "    Bayesian info crit = -7294.20196\n",
      "    R-squared          = 0.99984392\n",
      "[[Variables]]\n",
      "    x0:          194.887431 +/- 0.13181270 (0.07%) (init = 200)\n",
      "    x1:          840.515118 +/- 0.14896516 (0.02%) (init = 800)\n",
      "    r0:          0.01337699 +/- 3.9784e-05 (0.30%) (init = 0.005)\n",
      "    r1:          0.01063192 +/- 3.2544e-05 (0.31%) (init = 0.005)\n",
      "    exp_lim1:    0.99734703 +/- 4.0731e-04 (0.04%) (init = 0.7)\n",
      "    exp_lim2:    0.01778630 +/- 5.3901e-04 (3.03%) (init = 0.1)\n",
      "    driftslope:  0 (fixed)\n",
      "[[Correlations]] (unreported correlations are < 0.100)\n",
      "    C(r1, exp_lim2) = 0.685\n",
      "    C(x0, r0)       = 0.593\n",
      "    C(r0, exp_lim1) = -0.547\n",
      "    C(x1, r1)       = 0.509\n"
     ]
    },
    {
     "data": {
      "image/png": "[encoded data removed]",
      "text/plain": [
       "<Figure size 432x288 with 1 Axes>"
      ]
     },
     "metadata": {
      "needs_background": "light"
     },
     "output_type": "display_data"
    }
   ],
   "source": [
    "result = curve_model.fit(df['Znorm'].values, x=df['Time (s)'].values, params=params)\n",
    "result.plot_fit()\n",
    "print(result.fit_report())"
   ]
  },
  {
   "cell_type": "markdown",
   "id": "8137007e",
   "metadata": {
    "id": "8137007e"
   },
   "source": [
    "## Results\n",
    "The fit is quite good in the 550C case. Now recall that $r_0$ is in this case the oxidation (increasing resistivity) time constant, and $r_1$ is the reduction time constant. Since $r = k_{\\rm{chem}} / h$ we can obtain $k_{\\rm{chem}}$ for each by multiplying by the film thickness $h=85$nm."
   ]
  },
  {
   "cell_type": "code",
   "execution_count": 27,
   "id": "62e1111b",
   "metadata": {
    "id": "62e1111b",
    "outputId": "36ad4397-6b28-4314-c9d5-2f2f63d4717e"
   },
   "outputs": [
    {
     "name": "stdout",
     "output_type": "stream",
     "text": [
      "Oxidation (cm/s): 1.1370443293272464e-07\n",
      "Reduction (cm/s): 9.037131210390886e-08\n",
      "Uncertainty (cm/s): 3.3816685769953943e-10\n",
      "Uncertainty (cm/s): 2.766223708153048e-10\n"
     ]
    }
   ],
   "source": [
    "# NOTE: The displayed output is not necessarily 550C; check what the current_datafile is\n",
    "h = 85e-7 # centimeters\n",
    "k_chem_oxi = result.params[\"r0\"].value * h # cm/s\n",
    "k_chem_red = result.params[\"r1\"].value * h\n",
    "\n",
    "print(\"Oxidation (cm/s):\", k_chem_oxi)\n",
    "print(\"Reduction (cm/s):\", k_chem_red)\n",
    "try:\n",
    "    unc_oxi = result.params[\"r0\"].stderr * h\n",
    "    unc_red = result.params[\"r1\"].stderr * h\n",
    "    print(\"Uncertainty (cm/s):\", unc_oxi)\n",
    "    print(\"Uncertainty (cm/s):\", unc_red)\n",
    "except:\n",
    "    print(\"Uncertainty could not be estimated.\")"
   ]
  },
  {
   "cell_type": "markdown",
   "id": "f151d450",
   "metadata": {
    "id": "f151d450"
   },
   "source": [
    "According to https://doi.org/10.1016/j.ssi.2019.01.003 (old Clement paper), in PCO10 we can get $k_c = 6\\times 10^{-7}$cm/s at 550C. Our result is 6 times slower, at $1.1\\times 10^{-7}$cm/s. The statistical uncertainty on this is quite small (0.4\\%).\n",
    "\n",
    "It's worth noting that https://doi.org/10.1016/j.ssi.2019.01.003 (recent Nat. Catal. paper) quotes for the same PCO10 a $k_c$ on the order of $10^{-6}$cm/s, a few times higher still.\n",
    "\n",
    "That said, we're well within the range of $k_{\\rm{chem}}$ achievable through poisoning. But as far as I know, we haven't 100\\% confirmed that this is what's happening. Characterizing the surface of our sample for morphology (SEM?) and composition (XPS) would be useful to diagnose the issue.\n",
    "\n",
    "Another possibility is that our temperatures are systematically lower than they should be, but in a nonlinear fashion. This is possible, because the Linkam stage used to do the measurement is watercooled to <100C, and there is sub-RT gas flowing in steadily, while the sample is on an insulating substrate on the stage at 550C. We would see larger temperature discrepancies at higher stage temperatures.\n",
    "\n",
    "For this reason, on the new higher quality stage, we're doing a temperature calibration using platinum wire, against a furnace's temperature measurement which is known to be fairly accurate. This should get our temperature uncertainty below 10C, with luck."
   ]
  },
  {
   "cell_type": "markdown",
   "id": "309e1ead",
   "metadata": {
    "id": "yiQJem7-PPRo"
   },
   "source": [
    "### Results: all temperatures\n",
    "Typical uncertainty of fit is **<1\\%, e.g. 0.4\\%**.\n",
    "\n",
    "Typical systematic uncertainty (difference in fitted $r$ values with and without the linear drift in the model, or in cases of low drift, with and without floating the exponential limits) can be around **1-20\\%**\n",
    "\n",
    "Remark: I probably need to improve how the linear drift is calculated in the model function, as there's sharp over/undershoots at the transitions."
   ]
  },
  {
   "cell_type": "code",
   "execution_count": 2,
   "id": "f32a15a7",
   "metadata": {},
   "outputs": [],
   "source": [
    "T = np.array([550, 525, 500, 500, 475]) + 273 # K\n",
    "kcoxis = np.array([1.14e-7, 7.30e-8, 4.49e-8, 2.48e-8, 1.82e-8]) # cm/s\n",
    "kcreds = np.array([9.04e-8, 5.40e-8, 3.45e-8, 2.04e-8, 1.78e-8]) # cm/s\n",
    "kcoxis_nodrift = np.array([1.11e-7, 7.13e-8, 4.50e-8, 2.75e-8, 1.24e-8])\n",
    "kcreds_nodrift = np.array([8.73e-8, 4.94e-8, 3.46e-8, 2.01e-8, 0]) # the last value here is fake, the fit basically failed\n",
    "stat_unc_kcoxis = np.array([3.4e-10, 1.3e-10, 7.4e-11, 6.7e-10, 4.9e-9])\n",
    "stat_unc_kcreds = np.array([2.8e-10, 1.0e-10, 4.3e-11, 3.8e-10, 0]) # the last value here is fake \"\"\n",
    "sys_unc_kcoxis = np.abs(kcoxis - kcoxis_nodrift)\n",
    "sys_unc_kcreds = np.abs(kcreds - kcreds_nodrift)\n",
    "drift_slopes = [8e-6, 8e-6, 8.5e-6, 4.7e-5, 1.5e-5] # a normalized impedance drift baseline"
   ]
  },
  {
   "cell_type": "markdown",
   "id": "b69aa6a8",
   "metadata": {},
   "source": [
    "We'll now plot these and try to fit an activation energy to them:"
   ]
  },
  {
   "cell_type": "code",
   "execution_count": 5,
   "id": "d0d46020",
   "metadata": {},
   "outputs": [
    {
     "name": "stdout",
     "output_type": "stream",
     "text": [
      "[[Model]]\n",
      "    Model(arrhenius)\n",
      "[[Fit Statistics]]\n",
      "    # fitting method   = leastsq\n",
      "    # function evals   = 19\n",
      "    # data points      = 5\n",
      "    # variables        = 2\n",
      "    chi-square         = 53.4335151\n",
      "    reduced chi-square = 17.8111717\n",
      "    Akaike info crit   = 15.8450013\n",
      "    Bayesian info crit = 15.0638771\n",
      "    R-squared          = -8.6556e+15\n",
      "[[Variables]]\n",
      "    E:  1.02708810 +/- 0.10664082 (10.38%) (init = 1)\n",
      "    A:  0.22295734 +/- 0.35656273 (159.92%) (init = 10)\n",
      "[[Correlations]] (unreported correlations are < 0.100)\n",
      "    C(E, A) = 1.000\n"
     ]
    },
    {
     "data": {
      "text/plain": [
       "<AxesSubplot: title={'center': 'Model(arrhenius)'}, xlabel='x', ylabel='y'>"
      ]
     },
     "execution_count": 5,
     "metadata": {},
     "output_type": "execute_result"
    },
    {
     "data": {
      "image/png": "[encoded data removed]",
      "text/plain": [
       "<Figure size 432x288 with 1 Axes>"
      ]
     },
     "metadata": {
      "needs_background": "light"
     },
     "output_type": "display_data"
    }
   ],
   "source": [
    "Y = kcoxis\n",
    "Yerr_weights = 1 / ( np.sqrt(stat_unc_kcoxis**2 + sys_unc_kcoxis**2) ) # lmfit uses 1/sigma, not inverse variance\n",
    "\n",
    "def arrhenius(x, E, A):\n",
    "    kB = 8.617333262e-5 # eV/K\n",
    "    return A * np.exp(-E / (kB * x))\n",
    "\n",
    "model_a = lmfit.Model(arrhenius, independent_vars=['x'])\n",
    "params_a = lmfit.Parameters()\n",
    "params_a.add('E', value=1, min=1e-19)\n",
    "params_a.add('A', value=10)\n",
    "\n",
    "resulta = model_a.fit(Y, x=T, params=params_a, weights=Yerr_weights)\n",
    "print(resulta.fit_report())\n",
    "resulta.plot_fit()"
   ]
  },
  {
   "cell_type": "code",
   "execution_count": 8,
   "id": "770447eb",
   "metadata": {},
   "outputs": [
    {
     "data": {
      "image/png": "[encoded data removed]",
      "text/plain": [
       "<Figure size 900x600 with 1 Axes>"
      ]
     },
     "metadata": {
      "needs_background": "light"
     },
     "output_type": "display_data"
    }
   ],
   "source": [
    "x_eval = np.linspace(700, 900, 10)\n",
    "y_eval = resulta.eval(params_a, x=x_eval)\n",
    "\n",
    "fig, ax = plt.subplots()\n",
    "fig.set_dpi(150)\n",
    "#ax.plot(x_eval, y_eval, color='blue')\n",
    "ax.errorbar(T + 5, kcoxis, np.sqrt(stat_unc_kcoxis**2 + sys_unc_kcoxis**2), label='oxidation', color='red', linestyle='', capsize=5, capthick=1, elinewidth=2)\n",
    "ax.errorbar(T, kcreds, np.sqrt(stat_unc_kcreds**2 + sys_unc_kcreds**2), label='reduction', color='blue', linestyle='', capsize=5, capthick=1, elinewidth=2)\n",
    "ax.set_title(\"kchem vs temperature\")\n",
    "ax.set_xlabel(\"T (K)\")\n",
    "ax.set_ylabel(\"kchem (cm/s)\")\n",
    "plt.legend()\n",
    "#ax.set_yscale('log')\n",
    "ax.text(0.9, 0.1, 'oxidation shifted right by 5K for visibility', verticalalignment ='bottom', horizontalalignment ='right', transform = ax.transAxes, fontsize = 8)\n",
    "plt.show()"
   ]
  },
  {
   "cell_type": "code",
   "execution_count": null,
   "id": "43136196",
   "metadata": {},
   "outputs": [],
   "source": []
  }
 ],
 "metadata": {
  "colab": {
   "provenance": []
  },
  "kernelspec": {
   "display_name": "Python 3 (ipykernel)",
   "language": "python",
   "name": "python3"
  },
  "language_info": {
   "codemirror_mode": {
    "name": "ipython",
    "version": 3
   },
   "file_extension": ".py",
   "mimetype": "text/x-python",
   "name": "python",
   "nbconvert_exporter": "python",
   "pygments_lexer": "ipython3",
   "version": "3.9.15"
  }
 },
 "nbformat": 4,
 "nbformat_minor": 5
}
